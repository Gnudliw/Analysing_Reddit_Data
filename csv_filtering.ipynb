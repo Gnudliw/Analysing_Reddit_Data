{
 "cells": [
  {
   "cell_type": "code",
   "execution_count": 4,
   "id": "9d096f82-5efe-4337-bcb4-a550f5577777",
   "metadata": {
    "tags": []
   },
   "outputs": [],
   "source": [
    "import pandas as pd \n",
    "import re\n",
    "\n",
    "df = pd.read_csv(\"Reddit_Dumps/uberdrivers_submissions_output_unfiltered_scores.csv\")\n",
    "\n",
    "#queries =[[\"upfront\"], [\"surge\"], [\"evaluation\"],[\"journey information\"]]\n",
    "queries = [[\"algorithm\"], \n",
    "           [\"transparency\"], \n",
    "           [\"intransparent\"], \n",
    "           [\"lack of information\"], \n",
    "           [\"algorithmic\"], \n",
    "           [\"asymmetry\"], \n",
    "           [\"transparency policies\"], \n",
    "           [\"ai\"], [\"data disclosure\"],\n",
    "           [\"open data\"],\n",
    "           [\"unfair\"],\n",
    "           [\"ai driven\"],\n",
    "           [\"ai-driven\"],\n",
    "           [\"decision\"],\n",
    "           [\"surge\"],\n",
    "           [\"upfront\"]]\n",
    "\n",
    "#queries = [\"algorithm\", \"intransparent\", [\"algorithmic\", \"management\"], \"ai\", \"no control\", \"lack of transparency\", \"information asymmetry\"]\n",
    "\n",
    "new_rows_selftext = []\n",
    "\n",
    "for index, row in df.iterrows():\n",
    "    selftext = str(row['selftext'])  \n",
    "\n",
    "    # Überprüfen, ob alle Wörter einer Query im selftext enthalten sind\n",
    "    found_queries_selftext = []\n",
    "    for i, query in enumerate(queries):\n",
    "        if all(re.search(r'\\b{}\\b'.format(word.lower()), selftext.lower()) for word in query):\n",
    "            found_queries_selftext.append(i)\n",
    "\n",
    "    if found_queries_selftext:\n",
    "        row['found_queries_selftext'] = found_queries_selftext\n",
    "        new_rows_selftext.append(row.to_frame().transpose())\n",
    "\n",
    "# DataFrame aus den relevanten Zeilen (basierend auf selftext) erstellen\n",
    "new_df_selftext = pd.concat(new_rows_selftext, ignore_index=True)\n",
    "\n",
    "# Neue DataFrame erstellen, der nur die relevanten Zeilen enthält (basierend auf title)\n",
    "new_rows_title = []\n",
    "\n",
    "for index, row in df.iterrows():\n",
    "    title = str(row['title'])  \n",
    "\n",
    "    # Überprüfen, ob alle Wörter einer Query im title enthalten sind\n",
    "    found_queries_title = []\n",
    "    for i, query in enumerate(queries):\n",
    "        if all(re.search(r'\\b{}\\b'.format(word.lower()), title.lower()) for word in query):\n",
    "            found_queries_title.append(i)\n",
    "\n",
    "    if found_queries_title:\n",
    "        row['found_queries_title'] = found_queries_title\n",
    "        new_rows_title.append(row.to_frame().transpose())\n",
    "\n",
    "# DataFrame aus den relevanten Zeilen erstellen\n",
    "new_df_title = pd.concat(new_rows_title, ignore_index=True)\n",
    "\n",
    "# DataFrame als CSV speichern und leere Spalten entfernen\n",
    "if not new_df_selftext.empty:\n",
    "    new_df_selftext.to_csv(\"uberdrivers_filtered_selftext.csv\", index=False, na_rep='')\n",
    "else:\n",
    "    print(\"Der neue DataFrame (basierend auf selftext) ist leer und kann nicht als CSV gespeichert werden.\")\n",
    "\n",
    "# DataFrame als CSV speichern und leere Spalten entfernen \n",
    "if not new_df_title.empty:\n",
    "    new_df_title.to_csv(\"uberdrivers_filtered_title.csv\", index=False, na_rep='')\n",
    "else:\n",
    "    print(\"Der neue DataFrame (basierend auf title) ist leer und kann nicht als CSV gespeichert werden.\")"
   ]
  },
  {
   "cell_type": "code",
   "execution_count": 5,
   "id": "2ae41a19-33e3-467c-ac47-5a358cff433e",
   "metadata": {
    "tags": []
   },
   "outputs": [
    {
     "name": "stdout",
     "output_type": "stream",
     "text": [
      "3231\n",
      "4254\n"
     ]
    }
   ],
   "source": [
    "print(len(new_df_title))\n",
    "print(len(new_df_selftext))"
   ]
  },
  {
   "cell_type": "code",
   "execution_count": null,
   "id": "1e79401e-faa8-4451-bada-683f79168a57",
   "metadata": {},
   "outputs": [],
   "source": []
  },
  {
   "cell_type": "code",
   "execution_count": null,
   "id": "b7063bf6-04ff-4e51-8890-3aabd8c493fd",
   "metadata": {},
   "outputs": [],
   "source": []
  }
 ],
 "metadata": {
  "kernelspec": {
   "display_name": "Python 3 (ipykernel)",
   "language": "python",
   "name": "python3"
  },
  "language_info": {
   "codemirror_mode": {
    "name": "ipython",
    "version": 3
   },
   "file_extension": ".py",
   "mimetype": "text/x-python",
   "name": "python",
   "nbconvert_exporter": "python",
   "pygments_lexer": "ipython3",
   "version": "3.11.3"
  }
 },
 "nbformat": 4,
 "nbformat_minor": 5
}
