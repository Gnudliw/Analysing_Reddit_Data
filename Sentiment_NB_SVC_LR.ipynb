{
 "cells": [
  {
   "cell_type": "code",
   "execution_count": 2,
   "id": "3e533a62-833d-4120-9fa4-e2a41996799e",
   "metadata": {
    "editable": true,
    "slideshow": {
     "slide_type": ""
    },
    "tags": []
   },
   "outputs": [],
   "source": [
    "import pandas as pd \n",
    "from sklearn.feature_extraction.text import CountVectorizer #Document Word Matrix\n",
    "from sklearn.model_selection import train_test_split, GridSearchCV  #Split in Trainings und Test Datensatz \n",
    "from sklearn.naive_bayes import MultinomialNB #MULTINOMIAL NAIVE BAYES CLASSIFIER\n",
    "from sklearn.naive_bayes import ComplementNB #COMPLETE NAIVE BAYES \n",
    "from sklearn.linear_model import LogisticRegression\n",
    "import spacy #Tokenizer\n",
    "from collections import Counter \n",
    "from sklearn import metrics #EVALUATION\n",
    "from sklearn.feature_extraction.text import TfidfVectorizer #TFIDF\n",
    "import string\n",
    "from typing import List #Weil beautyyy\n",
    "import unidecode #PreProcessing\n",
    "import re #Regular Expressions PreProcessing\n",
    "from sklearn.svm import SVC #SVM classifier\n",
    "from sklearn.preprocessing import StandardScaler \n",
    "from spacy.tokenizer import Tokenizer\n",
    "from sklearn.metrics import classification_report, accuracy_score, f1_score, precision_score, recall_score #Bewertungsmetriken \n",
    "import numpy as np\n",
    "import seaborn as sns\n",
    "import matplotlib.pyplot as plt"
   ]
  },
  {
   "cell_type": "code",
   "execution_count": 3,
   "id": "cf1ecbbf-97e8-4bac-965b-fcf8544af1a8",
   "metadata": {
    "editable": true,
    "slideshow": {
     "slide_type": ""
    },
    "tags": []
   },
   "outputs": [],
   "source": [
    "#setup \n",
    "\n",
    "nlp = spacy.load('en_core_web_sm')\n",
    "\n",
    "try:\n",
    "    from nltk.corpus import stopwords \n",
    "    \n",
    "except: \n",
    "    import nltk \n",
    "    nltk.downlaod(\"stopwords\")\n",
    "\n",
    "finally:\n",
    "    from nltk.corpus import stopwords "
   ]
  },
  {
   "cell_type": "code",
   "execution_count": 4,
   "id": "57264e15-a870-4110-ada6-efe855c6fe12",
   "metadata": {},
   "outputs": [],
   "source": [
    "#Tokenizer\n",
    "def tokenizer(text):  \n",
    "    doc = nlp(text)\n",
    "    tokens = [token.text for token in doc if not token.is_space]\n",
    "    return tokens"
   ]
  },
  {
   "cell_type": "code",
   "execution_count": 27,
   "id": "2731facf-9627-49ec-976e-f477ed9e97bb",
   "metadata": {
    "editable": true,
    "slideshow": {
     "slide_type": ""
    },
    "tags": []
   },
   "outputs": [],
   "source": [
    "#CLEANING \n",
    "\n",
    "'''def correct_typos(text: str) -> str: #DAUERT SEHR LANGE \n",
    "    spell = SpellChecker()\n",
    "    words = text.split()\n",
    "    corrected_words = [spell.correction(word) for word in words if spell.correction(word) is not None]\n",
    "    return ' '.join(corrected_words)'''\n",
    "\n",
    "def convert_to_lowercase(text: str) -> str:\n",
    "    return text.lower()\n",
    "\n",
    "def regex(text: str) -> str:\n",
    "   \n",
    "    text = re.sub(r'\\S*@\\S*\\s?', '', text)\n",
    "    text = re.sub(r'\\s+', ' ', text)\n",
    "    text = re.sub(r\"\\'\", '', text)\n",
    "    text = re.sub(r'http[s]?://\\S+', '', text)\n",
    "    text = re.sub(r'(?::|;|=)(?:-)?(?:\\)|\\(|D|P)', '', text)\n",
    "    text = re.sub(r'\\s+', ' ', text)\n",
    "    text = re.sub(r'\\d+', '', text)\n",
    "    text = re.sub(r'\\b\\w\\b', '', text)\n",
    "    hashtags = re.findall(r'#\\w+', text)\n",
    "    text += ' '.join(hashtags)   \n",
    "    return text\n",
    "\n",
    "def lemmatize(text: str) -> str:\n",
    "    # Lemmatisierung mit SpaCy\n",
    "    doc = nlp(text)\n",
    "    lemmatized_words = []\n",
    "    for token in doc:\n",
    "        lemmatized_words.append(token.lemma_)\n",
    "    \n",
    "    return \" \".join(lemmatized_words)\n",
    "\n",
    "\n",
    "def remove_stopwords(text: str, sw: List[str] = stopwords.words(\"english\")) -> str: \n",
    "    #Eventuell überarbeiten\n",
    "    additional_sw = [\"ubers\",\"uber\",\"drive\",\"gt\",\"get\",\"got\",\"go\",\"ride\",\"make\",\"would\",\"say\",\"driver\", \"nt\", \"ca\"]\n",
    "    sw = sw + additional_sw\n",
    "    text_list = text.split()\n",
    "    text_list = [word for word in text_list if word.lower() not in sw]\n",
    "    return \" \".join(text_list)\n",
    "\n",
    "def remove_punctuation(text: str, punct: str = string.punctuation) -> str:\n",
    "   \n",
    "    cleaned_text = \"\".join([char for char in text if char not in punct])\n",
    "    return cleaned_text\n",
    "\n",
    "def unicode(text: str) -> str:\n",
    "    return unidecode.unidecode(text)\n",
    "\n",
    "def clean(text: str) -> str: #Finale cleaning def\n",
    "   \n",
    "    #text = unicode(text)\n",
    "    #text = regex(text)\n",
    "    #text = correct_typos(text)\n",
    "    #text = remove_stopwords(text)\n",
    "    #text = lemmatize(text)\n",
    "    text = remove_punctuation(text)\n",
    "    text = convert_to_lowercase(text)\n",
    "    \n",
    "    return text\n"
   ]
  },
  {
   "cell_type": "code",
   "execution_count": 34,
   "id": "4e7d8725-94b8-461a-8cd9-10ff56f688d4",
   "metadata": {},
   "outputs": [],
   "source": [
    "#DTM erstellen inklusive preprocessing \n",
    "cv = CountVectorizer(stop_words='english',ngram_range = (1,1), tokenizer=tokenizer)  \n",
    "text_counts = cv.fit_transform(df['clean_comment']) #DTM für Spalte"
   ]
  },
  {
   "cell_type": "code",
   "execution_count": 28,
   "id": "f667b8bf-dc20-4594-ab7d-f66cfdd57158",
   "metadata": {
    "editable": true,
    "slideshow": {
     "slide_type": ""
    },
    "tags": []
   },
   "outputs": [
    {
     "data": {
      "text/html": [
       "<div>\n",
       "<style scoped>\n",
       "    .dataframe tbody tr th:only-of-type {\n",
       "        vertical-align: middle;\n",
       "    }\n",
       "\n",
       "    .dataframe tbody tr th {\n",
       "        vertical-align: top;\n",
       "    }\n",
       "\n",
       "    .dataframe thead th {\n",
       "        text-align: right;\n",
       "    }\n",
       "</style>\n",
       "<table border=\"1\" class=\"dataframe\">\n",
       "  <thead>\n",
       "    <tr style=\"text-align: right;\">\n",
       "      <th></th>\n",
       "      <th>clean_comment</th>\n",
       "      <th>category</th>\n",
       "    </tr>\n",
       "  </thead>\n",
       "  <tbody>\n",
       "    <tr>\n",
       "      <th>0</th>\n",
       "      <td>family mormon have never tried explain them t...</td>\n",
       "      <td>1</td>\n",
       "    </tr>\n",
       "    <tr>\n",
       "      <th>1</th>\n",
       "      <td>buddhism has very much lot compatible with chr...</td>\n",
       "      <td>1</td>\n",
       "    </tr>\n",
       "    <tr>\n",
       "      <th>2</th>\n",
       "      <td>seriously don say thing first all they won get...</td>\n",
       "      <td>-1</td>\n",
       "    </tr>\n",
       "    <tr>\n",
       "      <th>3</th>\n",
       "      <td>what you have learned yours and only yours wha...</td>\n",
       "      <td>0</td>\n",
       "    </tr>\n",
       "    <tr>\n",
       "      <th>4</th>\n",
       "      <td>for your own benefit you may want read living ...</td>\n",
       "      <td>1</td>\n",
       "    </tr>\n",
       "  </tbody>\n",
       "</table>\n",
       "</div>"
      ],
      "text/plain": [
       "                                       clean_comment  category\n",
       "0   family mormon have never tried explain them t...         1\n",
       "1  buddhism has very much lot compatible with chr...         1\n",
       "2  seriously don say thing first all they won get...        -1\n",
       "3  what you have learned yours and only yours wha...         0\n",
       "4  for your own benefit you may want read living ...         1"
      ]
     },
     "execution_count": 28,
     "metadata": {},
     "output_type": "execute_result"
    }
   ],
   "source": [
    "#Einlesen der Daten \n",
    "df = pd.read_csv(\"Reddit_Data_kaggle.csv\")\n",
    "df = df.dropna(subset=[\"clean_comment\"])\n",
    "df.head()"
   ]
  },
  {
   "cell_type": "code",
   "execution_count": 29,
   "id": "5ad29bc3-20b7-49db-a7a5-e2d3a9ee53bc",
   "metadata": {},
   "outputs": [],
   "source": [
    "#TFIDF\n",
    "tfidf = TfidfVectorizer(preprocessor=clean, ngram_range=(1,1))\n",
    "text_count_2 = tfidf.fit_transform(df['clean_comment'])"
   ]
  },
  {
   "cell_type": "code",
   "execution_count": 35,
   "id": "f5cd1d82-0d41-48ed-8c27-55f2da825f79",
   "metadata": {
    "editable": true,
    "slideshow": {
     "slide_type": ""
    },
    "tags": []
   },
   "outputs": [],
   "source": [
    "#Test -und Trainingsdaten erstellen mit TFIDF\n",
    "X_train, X_test, Y_train, Y_test = train_test_split(text_count_2, df['category'], test_size=0.25, random_state=5)"
   ]
  },
  {
   "cell_type": "code",
   "execution_count": 36,
   "id": "1c044b31-739d-4976-bd17-dbdbc2c19e94",
   "metadata": {},
   "outputs": [
    {
     "name": "stdout",
     "output_type": "stream",
     "text": [
      "Beste Hyperparameter:  {'alpha': 0.25}\n",
      "Beste Genauigkeit: 64.38%\n",
      "              precision    recall  f1-score   support\n",
      "\n",
      "          -1       0.57      0.54      0.55      2096\n",
      "           0       0.80      0.53      0.64      3187\n",
      "           1       0.61      0.80      0.70      4005\n",
      "\n",
      "    accuracy                           0.65      9288\n",
      "   macro avg       0.66      0.62      0.63      9288\n",
      "weighted avg       0.67      0.65      0.64      9288\n",
      "\n"
     ]
    }
   ],
   "source": [
    "#Multinomialer Naive Bayes Classifier + Hyperparameter Tuning \n",
    "MNB = MultinomialNB()\n",
    "parameters = {'alpha': [0.1, 0.15 ,0.2 ,0.25 ,0.3 ,0.35 ,0.4 ,0.45, 0.5,0.55,0.6,0.65,0.7,0.75,0.8,0.85,0.9,0.95, 1.0]}  # Liste der zu testenden Hyperparameter-Kombinationen\n",
    "grid_search = GridSearchCV(MNB, parameters, cv=5, scoring=\"accuracy\")\n",
    "grid_search.fit(X_train, Y_train)\n",
    "\n",
    "best_params = grid_search.best_params_  # Beste Hyperparameter-Kombination\n",
    "best_score = grid_search.best_score_  # Beste Bewertungsmetrik (Accuracy)\n",
    "best_model = grid_search.best_estimator_ #Modell definieren\n",
    "best_model.fit(X_train, Y_train)\n",
    "\n",
    "Y_pred = best_model.predict(X_test) #Output predicten\n",
    "print(\"Beste Hyperparameter: \", best_params) #Werte der Hyperparameter\n",
    "print(\"Beste Genauigkeit: {:.2f}%\".format(best_score * 100)) #Accuracy\n",
    "print(classification_report(Y_test, Y_pred))\n",
    "metrics_mnb = [accuracy_score(Y_test, Y_pred), f1_score(Y_test, Y_pred, average=\"macro\"), recall_score(Y_test, Y_pred, average=\"macro\"), precision_score(Y_test, Y_pred, average=\"macro\")]\n"
   ]
  },
  {
   "cell_type": "code",
   "execution_count": 37,
   "id": "0f5c9d95-21ac-4a05-a4f3-2ec8ad4fc439",
   "metadata": {},
   "outputs": [
    {
     "name": "stdout",
     "output_type": "stream",
     "text": [
      "Beste Hyperparameter:  {'alpha': 0.7}\n",
      "Beste Genauigkeit: 62.84%\n",
      "              precision    recall  f1-score   support\n",
      "\n",
      "          -1       0.54      0.52      0.53      2096\n",
      "           0       0.72      0.48      0.58      3187\n",
      "           1       0.64      0.82      0.72      4005\n",
      "\n",
      "    accuracy                           0.63      9288\n",
      "   macro avg       0.63      0.61      0.61      9288\n",
      "weighted avg       0.64      0.63      0.63      9288\n",
      "\n"
     ]
    }
   ],
   "source": [
    "#Complete Naive Bayes + Hyperparamter Tuning \n",
    "CNB = ComplementNB()\n",
    "parameters = {'alpha':[0.1, 0.15 ,0.2 ,0.25 ,0.3 ,0.35 ,0.4 ,0.45, 0.5,0.55,0.6,0.65,0.7,0.75,0.8,0.85,0.9,0.95, 1.0] }  # Liste der zu testenden Hyperparameter-Kombinationen\n",
    "grid_search = GridSearchCV(CNB, parameters, cv=5, scoring=\"accuracy\")\n",
    "grid_search.fit(X_train, Y_train)\n",
    "\n",
    "best_params = grid_search.best_params_  # Beste Hyperparameter-Kombination\n",
    "best_score = grid_search.best_score_  # Beste Bewertungsmetrik\n",
    "best_model = grid_search.best_estimator_\n",
    "best_model.fit(X_train, Y_train)\n",
    "\n",
    "Y_pred = best_model.predict(X_test)\n",
    "print(\"Beste Hyperparameter: \", best_params)\n",
    "print(\"Beste Genauigkeit: {:.2f}%\".format(best_score * 100))\n",
    "print(classification_report(Y_test, Y_pred))\n",
    "metrics_cnb = [accuracy_score(Y_test, Y_pred), f1_score(Y_test, Y_pred, average=\"macro\"), recall_score(Y_test, Y_pred, average=\"macro\"), precision_score(Y_test, Y_pred, average=\"macro\")]"
   ]
  },
  {
   "cell_type": "code",
   "execution_count": null,
   "id": "558c826a-db19-46bf-ab67-5dd0260b0756",
   "metadata": {},
   "outputs": [],
   "source": [
    "param_grid = {'C': [0.1, 1, 10, 100, 1000], \n",
    "              'gamma': [1, 0.1, 0.01, 0.001, 0.0001],\n",
    "              'kernel': ['rbf']} \n",
    "\n",
    "grid = GridSearchCV(SVC(), param_grid, refit = True, verbose = 3)\n",
    "grid.fit(X_train, Y_train)\n",
    "# print best parameter after tuning\n",
    "print(grid.best_params_)\n",
    "  \n",
    "# print how our model looks after hyper-parameter tuning\n",
    "print(grid.best_estimator_)\n",
    "\n",
    "#Note: SVC(C=100, gamma=0.01) & TF-IDF besser als ohne BoW"
   ]
  },
  {
   "cell_type": "code",
   "execution_count": 33,
   "id": "bacbe463-5baf-4523-afc2-e8b2f4031ee5",
   "metadata": {},
   "outputs": [
    {
     "name": "stdout",
     "output_type": "stream",
     "text": [
      "              precision    recall  f1-score   support\n",
      "\n",
      "          -1       0.85      0.76      0.81      2096\n",
      "           0       0.90      0.97      0.93      3187\n",
      "           1       0.91      0.90      0.90      4005\n",
      "\n",
      "    accuracy                           0.89      9288\n",
      "   macro avg       0.88      0.88      0.88      9288\n",
      "weighted avg       0.89      0.89      0.89      9288\n",
      "\n"
     ]
    }
   ],
   "source": [
    "#SVC \n",
    "X_train, X_test, Y_train, Y_test = train_test_split(text_count_2, df['category'], test_size=0.25, random_state=5)\n",
    "svc = SVC(C=100, gamma=0.01)\n",
    "svc.fit(X_train,Y_train)\n",
    "Y_pred = svc.predict(X_test)\n",
    "print(classification_report(Y_test, Y_pred))\n",
    "metrics_svc = [accuracy_score(Y_test, Y_pred), f1_score(Y_test, Y_pred, average=\"macro\"), recall_score(Y_test, Y_pred, average=\"macro\"), precision_score(Y_test, Y_pred, average=\"macro\")]"
   ]
  },
  {
   "cell_type": "code",
   "execution_count": null,
   "id": "fbb52de5-6447-4558-8259-b75e2614b4e0",
   "metadata": {},
   "outputs": [],
   "source": [
    "grid_predictions = grid.predict(X_test)\n",
    "  \n",
    "# print classification report\n",
    "print(classification_report(Y_test, grid_predictions))\n",
    "metrics_svc = [accuracy_score(Y_test, grid_predictions), f1_score(Y_test, grid_predicitons), recall_score(Y_test, grid_predictions), precision_score(Y_test, grid_predicitons))"
   ]
  },
  {
   "cell_type": "code",
   "execution_count": 16,
   "id": "87560362-2442-498a-900a-49a7d0bec660",
   "metadata": {},
   "outputs": [
    {
     "name": "stdout",
     "output_type": "stream",
     "text": [
      "              precision    recall  f1-score   support\n",
      "\n",
      "          -1       0.89      0.63      0.74      2096\n",
      "           0       0.81      0.95      0.88      3187\n",
      "           1       0.87      0.88      0.87      4005\n",
      "\n",
      "    accuracy                           0.85      9288\n",
      "   macro avg       0.86      0.82      0.83      9288\n",
      "weighted avg       0.85      0.85      0.84      9288\n",
      "\n"
     ]
    }
   ],
   "source": [
    "#Logistische Regression \n",
    "log_reg = LogisticRegression(random_state=0, max_iter=1000)\n",
    "log_reg.fit(X_train, Y_train)\n",
    "Y_pred = log_reg.predict(X_test)\n",
    "print(classification_report(Y_test, Y_pred))\n",
    "metrics_lr = [accuracy_score(Y_test, Y_pred), f1_score(Y_test, Y_pred, average=\"macro\"), recall_score(Y_test, Y_pred, average=\"macro\"), precision_score(Y_test, Y_pred, average=\"macro\")]"
   ]
  },
  {
   "cell_type": "code",
   "execution_count": null,
   "id": "c0bc9030-a187-474e-a366-085dd969bea7",
   "metadata": {},
   "outputs": [],
   "source": []
  },
  {
   "cell_type": "code",
   "execution_count": 18,
   "id": "4e0d5302-87ae-4577-8185-1ddd7a9f6fdd",
   "metadata": {},
   "outputs": [
    {
     "data": {
      "image/png": "[encoded data removed]",
      "text/plain": [
       "<Figure size 1000x600 with 1 Axes>"
      ]
     },
     "metadata": {},
     "output_type": "display_data"
    }
   ],
   "source": [
    "#VISUALISIERUNG \n",
    "\n",
    "classifiers = ['SVC', 'CNB', 'MNB', 'Logistic Regression']\n",
    "metrics = ['Accuracy', 'F1-Score', 'Recall', 'Precision']\n",
    "\n",
    "# Erstelle ein leeres DataFrame\n",
    "data = pd.DataFrame()\n",
    "\n",
    "# Füge die Metriken und Klassifikatoren in das DataFrame ein\n",
    "for classifier in classifiers:\n",
    "    for i, metric in enumerate(metrics):\n",
    "        if classifier == 'SVC':\n",
    "            score = metrics_svc[i]\n",
    "        elif classifier == 'CNB':\n",
    "            score = metrics_cnb[i]\n",
    "        elif classifier == 'MNB':\n",
    "            score = metrics_mnb[i]\n",
    "        elif classifier == 'Logistic Regression':\n",
    "            score = metrics_lr[i]\n",
    "        \n",
    "        df = pd.DataFrame({'Classifier': [classifier], 'Metric': [metric], 'Score': [score]})\n",
    "        data = pd.concat([data, df], ignore_index=True)\n",
    "\n",
    "# Erstelle das Balkendiagramm mit Seaborn\n",
    "sns.set(style=\"whitegrid\")\n",
    "plt.figure(figsize=(10, 6))\n",
    "sns.barplot(x='Metric', y='Score', hue='Classifier', data=data)\n",
    "plt.title('Vergleich der Metriken für verschiedene Klassifikatoren')\n",
    "plt.xlabel('Metrik')\n",
    "plt.ylabel('Score')\n",
    "plt.legend(loc='upper right')\n",
    "plt.show()"
   ]
  },
  {
   "cell_type": "code",
   "execution_count": null,
   "id": "f70cc6a5-9906-4a9f-a7b4-1db62f10e3d4",
   "metadata": {},
   "outputs": [],
   "source": []
  }
 ],
 "metadata": {
  "kernelspec": {
   "display_name": "Python 3 (ipykernel)",
   "language": "python",
   "name": "python3"
  },
  "language_info": {
   "codemirror_mode": {
    "name": "ipython",
    "version": 3
   },
   "file_extension": ".py",
   "mimetype": "text/x-python",
   "name": "python",
   "nbconvert_exporter": "python",
   "pygments_lexer": "ipython3",
   "version": "3.11.3"
  }
 },
 "nbformat": 4,
 "nbformat_minor": 5
}
